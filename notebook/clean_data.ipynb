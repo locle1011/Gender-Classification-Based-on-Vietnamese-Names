{
 "cells": [
  {
   "cell_type": "code",
   "execution_count": 1,
   "id": "5f2a5174",
   "metadata": {},
   "outputs": [],
   "source": [
    "import pandas as pd"
   ]
  },
  {
   "cell_type": "markdown",
   "id": "ed6b6e07",
   "metadata": {},
   "source": [
    "## 1. Load raw-data"
   ]
  },
  {
   "cell_type": "code",
   "execution_count": 2,
   "id": "82d15775",
   "metadata": {},
   "outputs": [
    {
     "name": "stdout",
     "output_type": "stream",
     "text": [
      "<class 'pandas.core.frame.DataFrame'>\n",
      "RangeIndex: 15632 entries, 0 to 15631\n",
      "Data columns (total 2 columns):\n",
      " #   Column  Non-Null Count  Dtype \n",
      "---  ------  --------------  ----- \n",
      " 0   name    15632 non-null  object\n",
      " 1   gender  15632 non-null  object\n",
      "dtypes: object(2)\n",
      "memory usage: 244.4+ KB\n"
     ]
    }
   ],
   "source": [
    "df = pd.read_excel('../data/raw_data.xlsx')\n",
    "df.info()"
   ]
  },
  {
   "cell_type": "code",
   "execution_count": 3,
   "id": "28b4d3e3",
   "metadata": {},
   "outputs": [
    {
     "data": {
      "text/html": [
       "<div>\n",
       "<style scoped>\n",
       "    .dataframe tbody tr th:only-of-type {\n",
       "        vertical-align: middle;\n",
       "    }\n",
       "\n",
       "    .dataframe tbody tr th {\n",
       "        vertical-align: top;\n",
       "    }\n",
       "\n",
       "    .dataframe thead th {\n",
       "        text-align: right;\n",
       "    }\n",
       "</style>\n",
       "<table border=\"1\" class=\"dataframe\">\n",
       "  <thead>\n",
       "    <tr style=\"text-align: right;\">\n",
       "      <th></th>\n",
       "      <th>name</th>\n",
       "    </tr>\n",
       "    <tr>\n",
       "      <th>gender</th>\n",
       "      <th></th>\n",
       "    </tr>\n",
       "  </thead>\n",
       "  <tbody>\n",
       "    <tr>\n",
       "      <th>Nam</th>\n",
       "      <td>7344</td>\n",
       "    </tr>\n",
       "    <tr>\n",
       "      <th>Nữ</th>\n",
       "      <td>8288</td>\n",
       "    </tr>\n",
       "  </tbody>\n",
       "</table>\n",
       "</div>"
      ],
      "text/plain": [
       "        name\n",
       "gender      \n",
       "Nam     7344\n",
       "Nữ      8288"
      ]
     },
     "execution_count": 3,
     "metadata": {},
     "output_type": "execute_result"
    }
   ],
   "source": [
    "df.groupby('gender').count()"
   ]
  },
  {
   "cell_type": "markdown",
   "id": "e38b7287",
   "metadata": {},
   "source": [
    "## 2. Cleaning Data"
   ]
  },
  {
   "cell_type": "markdown",
   "id": "eb77336b",
   "metadata": {},
   "source": [
    "### 2.1. Normalizing strings"
   ]
  },
  {
   "cell_type": "code",
   "execution_count": 4,
   "id": "127207de",
   "metadata": {},
   "outputs": [],
   "source": [
    "df['name'] = df['name'].str.split().str.join(' ').str.strip().str.title()\n",
    "df['gender'] = df['gender'].str.strip().str.title()"
   ]
  },
  {
   "cell_type": "markdown",
   "id": "151c20aa",
   "metadata": {},
   "source": [
    "### 2.2. Drop duplicated rows"
   ]
  },
  {
   "cell_type": "code",
   "execution_count": 5,
   "id": "ebebd193",
   "metadata": {},
   "outputs": [],
   "source": [
    "df = df.drop_duplicates().sort_values('name').reset_index(drop=True)"
   ]
  },
  {
   "cell_type": "code",
   "execution_count": 6,
   "id": "c98539ba",
   "metadata": {},
   "outputs": [
    {
     "data": {
      "text/html": [
       "<div>\n",
       "<style scoped>\n",
       "    .dataframe tbody tr th:only-of-type {\n",
       "        vertical-align: middle;\n",
       "    }\n",
       "\n",
       "    .dataframe tbody tr th {\n",
       "        vertical-align: top;\n",
       "    }\n",
       "\n",
       "    .dataframe thead th {\n",
       "        text-align: right;\n",
       "    }\n",
       "</style>\n",
       "<table border=\"1\" class=\"dataframe\">\n",
       "  <thead>\n",
       "    <tr style=\"text-align: right;\">\n",
       "      <th></th>\n",
       "      <th>name</th>\n",
       "    </tr>\n",
       "    <tr>\n",
       "      <th>gender</th>\n",
       "      <th></th>\n",
       "    </tr>\n",
       "  </thead>\n",
       "  <tbody>\n",
       "    <tr>\n",
       "      <th>Nam</th>\n",
       "      <td>6330</td>\n",
       "    </tr>\n",
       "    <tr>\n",
       "      <th>Nữ</th>\n",
       "      <td>6330</td>\n",
       "    </tr>\n",
       "  </tbody>\n",
       "</table>\n",
       "</div>"
      ],
      "text/plain": [
       "        name\n",
       "gender      \n",
       "Nam     6330\n",
       "Nữ      6330"
      ]
     },
     "execution_count": 6,
     "metadata": {},
     "output_type": "execute_result"
    }
   ],
   "source": [
    "df.groupby('gender').count()"
   ]
  },
  {
   "cell_type": "markdown",
   "id": "585fd853",
   "metadata": {},
   "source": [
    "## 3. Split full-name into last-name and first-name"
   ]
  },
  {
   "cell_type": "code",
   "execution_count": 7,
   "id": "dfdcff4e",
   "metadata": {},
   "outputs": [],
   "source": [
    "df['last_name'] = df.assign(last_name = df.name.str.split()) \\\n",
    "                    .loc[:, 'last_name'] \\\n",
    "                    .apply(lambda x: ' '.join(x[:-2]))\n",
    "df['first_name'] = df.assign(first_name = df.name.str.split()) \\\n",
    "                    .loc[:, 'first_name'] \\\n",
    "                    .apply(lambda x: ' '.join(x[-2:]))\n",
    "df.rename(columns={'name':'full_name'}, inplace=True)\n",
    "df = df[['full_name','last_name','first_name','gender']]"
   ]
  },
  {
   "cell_type": "code",
   "execution_count": 8,
   "id": "6319e213",
   "metadata": {
    "scrolled": false
   },
   "outputs": [
    {
     "data": {
      "text/html": [
       "<div>\n",
       "<style scoped>\n",
       "    .dataframe tbody tr th:only-of-type {\n",
       "        vertical-align: middle;\n",
       "    }\n",
       "\n",
       "    .dataframe tbody tr th {\n",
       "        vertical-align: top;\n",
       "    }\n",
       "\n",
       "    .dataframe thead th {\n",
       "        text-align: right;\n",
       "    }\n",
       "</style>\n",
       "<table border=\"1\" class=\"dataframe\">\n",
       "  <thead>\n",
       "    <tr style=\"text-align: right;\">\n",
       "      <th></th>\n",
       "      <th>full_name</th>\n",
       "      <th>last_name</th>\n",
       "      <th>first_name</th>\n",
       "      <th>gender</th>\n",
       "    </tr>\n",
       "  </thead>\n",
       "  <tbody>\n",
       "    <tr>\n",
       "      <th>0</th>\n",
       "      <td>A Ngọc Trang</td>\n",
       "      <td>A</td>\n",
       "      <td>Ngọc Trang</td>\n",
       "      <td>Nữ</td>\n",
       "    </tr>\n",
       "    <tr>\n",
       "      <th>1</th>\n",
       "      <td>An Gia Phúc</td>\n",
       "      <td>An</td>\n",
       "      <td>Gia Phúc</td>\n",
       "      <td>Nam</td>\n",
       "    </tr>\n",
       "    <tr>\n",
       "      <th>2</th>\n",
       "      <td>An Thanh Hải</td>\n",
       "      <td>An</td>\n",
       "      <td>Thanh Hải</td>\n",
       "      <td>Nam</td>\n",
       "    </tr>\n",
       "    <tr>\n",
       "      <th>3</th>\n",
       "      <td>An Thị Thanh Thảo</td>\n",
       "      <td>An Thị</td>\n",
       "      <td>Thanh Thảo</td>\n",
       "      <td>Nữ</td>\n",
       "    </tr>\n",
       "    <tr>\n",
       "      <th>4</th>\n",
       "      <td>Bao Thanh Duy</td>\n",
       "      <td>Bao</td>\n",
       "      <td>Thanh Duy</td>\n",
       "      <td>Nam</td>\n",
       "    </tr>\n",
       "    <tr>\n",
       "      <th>...</th>\n",
       "      <td>...</td>\n",
       "      <td>...</td>\n",
       "      <td>...</td>\n",
       "      <td>...</td>\n",
       "    </tr>\n",
       "    <tr>\n",
       "      <th>12655</th>\n",
       "      <td>Đỗ Đức Đạt</td>\n",
       "      <td>Đỗ</td>\n",
       "      <td>Đức Đạt</td>\n",
       "      <td>Nam</td>\n",
       "    </tr>\n",
       "    <tr>\n",
       "      <th>12656</th>\n",
       "      <td>Đỗ Ức Thiên Anh</td>\n",
       "      <td>Đỗ Ức</td>\n",
       "      <td>Thiên Anh</td>\n",
       "      <td>Nữ</td>\n",
       "    </tr>\n",
       "    <tr>\n",
       "      <th>12657</th>\n",
       "      <td>Đới Khanh An</td>\n",
       "      <td>Đới</td>\n",
       "      <td>Khanh An</td>\n",
       "      <td>Nam</td>\n",
       "    </tr>\n",
       "    <tr>\n",
       "      <th>12658</th>\n",
       "      <td>Ưng Sỹ Ngà</td>\n",
       "      <td>Ưng</td>\n",
       "      <td>Sỹ Ngà</td>\n",
       "      <td>Nam</td>\n",
       "    </tr>\n",
       "    <tr>\n",
       "      <th>12659</th>\n",
       "      <td>Ửng Phú Vinh</td>\n",
       "      <td>Ửng</td>\n",
       "      <td>Phú Vinh</td>\n",
       "      <td>Nam</td>\n",
       "    </tr>\n",
       "  </tbody>\n",
       "</table>\n",
       "<p>12660 rows × 4 columns</p>\n",
       "</div>"
      ],
      "text/plain": [
       "               full_name last_name  first_name gender\n",
       "0           A Ngọc Trang         A  Ngọc Trang     Nữ\n",
       "1            An Gia Phúc        An    Gia Phúc    Nam\n",
       "2           An Thanh Hải        An   Thanh Hải    Nam\n",
       "3      An Thị Thanh Thảo    An Thị  Thanh Thảo     Nữ\n",
       "4          Bao Thanh Duy       Bao   Thanh Duy    Nam\n",
       "...                  ...       ...         ...    ...\n",
       "12655         Đỗ Đức Đạt        Đỗ     Đức Đạt    Nam\n",
       "12656    Đỗ Ức Thiên Anh     Đỗ Ức   Thiên Anh     Nữ\n",
       "12657       Đới Khanh An       Đới    Khanh An    Nam\n",
       "12658         Ưng Sỹ Ngà       Ưng      Sỹ Ngà    Nam\n",
       "12659       Ửng Phú Vinh       Ửng    Phú Vinh    Nam\n",
       "\n",
       "[12660 rows x 4 columns]"
      ]
     },
     "execution_count": 8,
     "metadata": {},
     "output_type": "execute_result"
    }
   ],
   "source": [
    "df"
   ]
  },
  {
   "cell_type": "markdown",
   "id": "2556ebf0",
   "metadata": {},
   "source": [
    "## 4. Save cleaned data to disk"
   ]
  },
  {
   "cell_type": "code",
   "execution_count": 9,
   "id": "d3b7e585",
   "metadata": {},
   "outputs": [],
   "source": [
    "df.to_excel('../data/clean_data.xlsx', index=False)"
   ]
  }
 ],
 "metadata": {
  "kernelspec": {
   "display_name": "Python 3 (ipykernel)",
   "language": "python",
   "name": "python3"
  },
  "language_info": {
   "codemirror_mode": {
    "name": "ipython",
    "version": 3
   },
   "file_extension": ".py",
   "mimetype": "text/x-python",
   "name": "python",
   "nbconvert_exporter": "python",
   "pygments_lexer": "ipython3",
   "version": "3.9.8"
  }
 },
 "nbformat": 4,
 "nbformat_minor": 5
}
